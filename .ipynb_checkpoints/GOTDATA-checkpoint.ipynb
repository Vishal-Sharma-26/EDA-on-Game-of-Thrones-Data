{
 "cells": [
  {
   "cell_type": "code",
   "execution_count": null,
   "id": "eda6a8e3",
   "metadata": {},
   "outputs": [],
   "source": [
    "import pandas as pd\n",
    "import numpy as np\n",
    "from matplotlib import pyplot as plt\n",
    "import plotly.express as px\n",
    "from plotly.offline import plot, iplot\n",
    "import random\n",
    "import plotly.graph_objects as go\n",
    "import cufflinks as cf"
   ]
  },
  {
   "cell_type": "code",
   "execution_count": null,
   "id": "cc86cb6b",
   "metadata": {},
   "outputs": [],
   "source": [
    "battle = pd.read_csv('battles.csv')"
   ]
  },
  {
   "cell_type": "code",
   "execution_count": null,
   "id": "0cec4ce5",
   "metadata": {
    "scrolled": true
   },
   "outputs": [],
   "source": [
    "battle.head()"
   ]
  },
  {
   "cell_type": "code",
   "execution_count": null,
   "id": "5d930885",
   "metadata": {},
   "outputs": [],
   "source": [
    "battle.shape"
   ]
  },
  {
   "cell_type": "code",
   "execution_count": null,
   "id": "e3c22e5e",
   "metadata": {},
   "outputs": [],
   "source": [
    "battle.rename(columns={'attacker_1':'primary_attacker'},inplace=True)\n",
    "battle.head()"
   ]
  },
  {
   "cell_type": "code",
   "execution_count": null,
   "id": "1aa4bbc6",
   "metadata": {
    "scrolled": true
   },
   "outputs": [],
   "source": [
    "battle.rename(columns={'defender_1':'primary_defender'},inplace=True)\n",
    "battle.head()"
   ]
  },
  {
   "cell_type": "code",
   "execution_count": null,
   "id": "bceab732",
   "metadata": {},
   "outputs": [],
   "source": [
    "battle['attacker_king'].value_counts()"
   ]
  },
  {
   "cell_type": "code",
   "execution_count": null,
   "id": "697ab61a",
   "metadata": {},
   "outputs": [],
   "source": [
    "battle['location'].value_counts()"
   ]
  },
  {
   "cell_type": "code",
   "execution_count": null,
   "id": "265f90f3",
   "metadata": {},
   "outputs": [],
   "source": [
    "import seaborn as sns"
   ]
  },
  {
   "cell_type": "code",
   "execution_count": null,
   "id": "fa909e1c",
   "metadata": {},
   "outputs": [],
   "source": [
    "sns.set(rc={'figure.figsize':(13,5)})\n",
    "sns.barplot(x='attacker_king', y='attacker_size', data = battle, hue='attacker_king')\n",
    "plt.show()"
   ]
  },
  {
   "cell_type": "code",
   "execution_count": null,
   "id": "00f71de0",
   "metadata": {},
   "outputs": [],
   "source": [
    "sns.set(rc={'figure.figsize':(13,5)})\n",
    "sns.barplot(x='defender_king', y='defender_size', data = battle)\n",
    "plt.show()"
   ]
  },
  {
   "cell_type": "code",
   "execution_count": null,
   "id": "4eea1824",
   "metadata": {},
   "outputs": [],
   "source": [
    "sns.countplot(x= battle['attacker_king'],hue=battle['battle_type'])\n",
    "plt.show()"
   ]
  },
  {
   "cell_type": "code",
   "execution_count": null,
   "id": "5daa6088",
   "metadata": {
    "scrolled": true
   },
   "outputs": [],
   "source": [
    "death=pd.read_csv('character-deaths.csv')\n",
    "death.head()"
   ]
  },
  {
   "cell_type": "code",
   "execution_count": null,
   "id": "a3cb4430",
   "metadata": {},
   "outputs": [],
   "source": [
    "death.shape"
   ]
  },
  {
   "cell_type": "code",
   "execution_count": null,
   "id": "09ef4086",
   "metadata": {},
   "outputs": [],
   "source": [
    "death['Gender'].value_counts()"
   ]
  },
  {
   "cell_type": "code",
   "execution_count": null,
   "id": "c823b103",
   "metadata": {},
   "outputs": [],
   "source": [
    "death['Nobility'].value_counts()"
   ]
  },
  {
   "cell_type": "code",
   "execution_count": null,
   "id": "dc5bcc00",
   "metadata": {},
   "outputs": [],
   "source": [
    "prediction = pd.read_csv('character-predictions.csv')\n",
    "prediction"
   ]
  },
  {
   "cell_type": "code",
   "execution_count": null,
   "id": "432692e8",
   "metadata": {},
   "outputs": [],
   "source": [
    "prediction.shape"
   ]
  },
  {
   "cell_type": "code",
   "execution_count": null,
   "id": "838554c6",
   "metadata": {},
   "outputs": [],
   "source": [
    "fig = px.scatter(prediction, x='numDeadRelations', y='name', color='name', symbol='name')\n",
    "fig.show()"
   ]
  },
  {
   "cell_type": "code",
   "execution_count": null,
   "id": "b4e40df9",
   "metadata": {},
   "outputs": [],
   "source": [
    "bubble = px.scatter(prediction, y='name', x='isMarried', color='name')\n",
    "bubble.show()"
   ]
  },
  {
   "cell_type": "code",
   "execution_count": null,
   "id": "23733339",
   "metadata": {},
   "outputs": [],
   "source": []
  }
 ],
 "metadata": {
  "kernelspec": {
   "display_name": "Python 3 (ipykernel)",
   "language": "python",
   "name": "python3"
  },
  "language_info": {
   "codemirror_mode": {
    "name": "ipython",
    "version": 3
   },
   "file_extension": ".py",
   "mimetype": "text/x-python",
   "name": "python",
   "nbconvert_exporter": "python",
   "pygments_lexer": "ipython3",
   "version": "3.10.6"
  }
 },
 "nbformat": 4,
 "nbformat_minor": 5
}
